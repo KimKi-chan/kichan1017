{
 "cells": [
  {
   "cell_type": "code",
   "execution_count": null,
   "metadata": {},
   "outputs": [],
   "source": [
    "import csv\n",
    "import matplotlib.pyplot as plt\n",
    "sunghaf = []\n",
    "ik = []\n",
    "a = input('지하철역 이름을 입력하세요: ')\n",
    "for i in range(2008,2017) :\n",
    "    ik.append(str(i))\n",
    "    c = 'Final'+str(i)+'.csv'\n",
    "    data = csv.reader(open(c))\n",
    "    sung = 0\n",
    "    ha = 0\n",
    "    for row in data :\n",
    "        if a in row[2] :\n",
    "            sung += int(row[6])\n",
    "            ha += int(row[10])\n",
    "            sungha = sung+ha\n",
    "    sunghaf.append(sungha)\n",
    "    plt.plot(ik, sunghaf)\n",
    "    plt.show"
   ]
  }
 ],
 "metadata": {
  "kernelspec": {
   "display_name": "Python 3",
   "language": "python",
   "name": "python3"
  },
  "language_info": {
   "codemirror_mode": {
    "name": "ipython",
    "version": 3
   },
   "file_extension": ".py",
   "mimetype": "text/x-python",
   "name": "python",
   "nbconvert_exporter": "python",
   "pygments_lexer": "ipython3",
   "version": "3.6.4"
  }
 },
 "nbformat": 4,
 "nbformat_minor": 2
}
