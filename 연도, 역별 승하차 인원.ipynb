{
 "cells": [
  {
   "cell_type": "code",
   "execution_count": null,
   "metadata": {},
   "outputs": [],
   "source": [
    "import csv\n",
    "\n",
    "a = input('지하철역 이름을 입력하세요: ')\n",
    "b = input('알고 싶은 연도를 입력하세요: ')\n",
    "c = 'Final'+b+'.csv'\n",
    "data = csv.reader(open(c))\n",
    "\n",
    "sung = 0\n",
    "ha = 0\n",
    "for row in data:\n",
    "    if a in row[2] :\n",
    "        sung += int(row[6])\n",
    "        ha += int(row[10])\n",
    "        sungha = sung+ha\n",
    "print('1년간 출퇴근 시간 승하차 인원은', sungha, '명 입니다')"
   ]
  }
 ],
 "metadata": {
  "kernelspec": {
   "display_name": "Python 3",
   "language": "python",
   "name": "python3"
  },
  "language_info": {
   "codemirror_mode": {
    "name": "ipython",
    "version": 3
   },
   "file_extension": ".py",
   "mimetype": "text/x-python",
   "name": "python",
   "nbconvert_exporter": "python",
   "pygments_lexer": "ipython3",
   "version": "3.6.4"
  }
 },
 "nbformat": 4,
 "nbformat_minor": 2
}
